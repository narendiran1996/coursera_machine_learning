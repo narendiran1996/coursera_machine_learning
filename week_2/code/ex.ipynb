{
 "cells": [
  {
   "cell_type": "code",
   "execution_count": 166,
   "metadata": {},
   "outputs": [],
   "source": [
    "import numpy as np\n",
    "import matplotlib.pyplot as plt\n",
    "import pandas as pd"
   ]
  },
  {
   "cell_type": "code",
   "execution_count": 199,
   "metadata": {},
   "outputs": [],
   "source": [
    "def normal(X,Y):\n",
    "    p=np.dot(X,X.T)\n",
    "    v=np.dot(X,Y)\n",
    "    print(p.shape,v.shape)\n",
    "    return np.dot(np.linalg.inv(p),v)"
   ]
  },
  {
   "cell_type": "code",
   "execution_count": 168,
   "metadata": {},
   "outputs": [],
   "source": [
    "def hyp(theta,X):\n",
    "    return np.dot(X.T,theta)"
   ]
  },
  {
   "cell_type": "code",
   "execution_count": 169,
   "metadata": {},
   "outputs": [],
   "source": [
    "def cost(X,Y,theta):\n",
    "    m=Y.shape[0]\n",
    "    return (1.0/(2.0*m)) * np.sum((Y-hyp(theta,X))**2)"
   ]
  },
  {
   "cell_type": "code",
   "execution_count": 170,
   "metadata": {},
   "outputs": [],
   "source": [
    "def grad(X,Y,theta):\n",
    "    m=Y.shape[0]\n",
    "    return (1.0/m)*np.dot(X,(hyp(theta,X)-Y))"
   ]
  },
  {
   "cell_type": "code",
   "execution_count": 171,
   "metadata": {},
   "outputs": [],
   "source": [
    "def update(X,Y,theta,num_iter,alpha=0.01,debug=False):\n",
    "    costhist=[]\n",
    "    for i in range(num_iter):\n",
    "        theta = theta - (alpha * grad(X,Y,theta))\n",
    "        c=cost(X,Y,theta)\n",
    "        costhist.append(c)\n",
    "        if debug :\n",
    "            print(\"Cost after \" ,i,\" is \",c)\n",
    "            \n",
    "    return theta,costhist"
   ]
  },
  {
   "cell_type": "code",
   "execution_count": 172,
   "metadata": {},
   "outputs": [],
   "source": [
    "def predict(X,theta):\n",
    "    return hyp(theta,X)"
   ]
  },
  {
   "cell_type": "code",
   "execution_count": 173,
   "metadata": {},
   "outputs": [],
   "source": [
    "data=pd.read_csv('../machine-learning-ex1/ex1/ex1data1.txt',header=None)"
   ]
  },
  {
   "cell_type": "code",
   "execution_count": 174,
   "metadata": {},
   "outputs": [
    {
     "name": "stdout",
     "output_type": "stream",
     "text": [
      "(97, 1) (97, 1)\n",
      "(2, 97) (97, 1)\n"
     ]
    },
    {
     "data": {
      "image/png": "[encoded data removed]",
      "text/plain": [
       "<matplotlib.figure.Figure at 0x114ed70f0>"
      ]
     },
     "metadata": {},
     "output_type": "display_data"
    }
   ],
   "source": [
    "x,y=data[data.columns[:-1]].values.reshape(-1,1),data[data.columns[-1]].values.reshape(-1,1)\n",
    "print(x.shape,y.shape)\n",
    "x=np.vstack((np.ones((1,x.shape[0])),x.reshape(1,-1)))\n",
    "print(x.shape,y.shape)\n",
    "plt.scatter(x[1:],y)\n",
    "plt.show()"
   ]
  },
  {
   "cell_type": "code",
   "execution_count": 175,
   "metadata": {},
   "outputs": [
    {
     "name": "stdout",
     "output_type": "stream",
     "text": [
      "Initial Cost :  32.0727338775\n"
     ]
    }
   ],
   "source": [
    "theta=np.zeros((2,1))\n",
    "print('Initial Cost : ',cost(x,y,theta))"
   ]
  },
  {
   "cell_type": "code",
   "execution_count": 176,
   "metadata": {},
   "outputs": [
    {
     "name": "stdout",
     "output_type": "stream",
     "text": [
      "final theta by gradeint descent :  [[-3.63029144]\n",
      " [ 1.16636235]]  Final Cost by gradeint descent :  4.48338825659\n"
     ]
    },
    {
     "data": {
      "image/png": "[encoded data removed]",
      "text/plain": [
       "<matplotlib.figure.Figure at 0x116c43518>"
      ]
     },
     "metadata": {},
     "output_type": "display_data"
    },
    {
     "name": "stdout",
     "output_type": "stream",
     "text": [
      "final theta by normal equation:  [[-3.89578088]\n",
      " [ 1.19303364]]  Final Cost by normal equation :  4.47697137598\n"
     ]
    }
   ],
   "source": [
    "trained_theta,cost_hist=update(x,y,theta,1500,0.01,False)\n",
    "print('final theta by gradeint descent : ',trained_theta,' Final Cost by gradeint descent : ',cost(x,y,trained_theta))\n",
    "plt.plot(cost_hist)\n",
    "plt.show()\n",
    "\n",
    "trained_theta_norm=normal(x,y)\n",
    "print('final theta by normal equation: ',trained_theta_norm,' Final Cost by normal equation : ',cost(x,y,trained_theta_norm))"
   ]
  },
  {
   "cell_type": "code",
   "execution_count": 177,
   "metadata": {},
   "outputs": [
    {
     "name": "stdout",
     "output_type": "stream",
     "text": [
      "For population = 35,000, we predict a profit of  [ 4519.7678677]\n",
      "For population = 70,000, we predict a profit of  [ 45342.45012945]\n"
     ]
    }
   ],
   "source": [
    "print('For population = 35,000, we predict a profit of ',predict(np.array([1,3.5]),trained_theta)*10000)\n",
    "print('For population = 70,000, we predict a profit of ',predict(np.array([1,7]),trained_theta)*10000)"
   ]
  },
  {
   "cell_type": "code",
   "execution_count": 178,
   "metadata": {},
   "outputs": [
    {
     "data": {
      "image/png": "[encoded data removed]",
      "text/plain": [
       "<matplotlib.figure.Figure at 0x114c53c18>"
      ]
     },
     "metadata": {},
     "output_type": "display_data"
    }
   ],
   "source": [
    "plt.plot(x[1:].T,hyp(trained_theta,x),'r-')\n",
    "plt.scatter(x[1:],y)\n",
    "plt.show()"
   ]
  },
  {
   "cell_type": "markdown",
   "metadata": {},
   "source": [
    "# ex1data2.txt"
   ]
  },
  {
   "cell_type": "code",
   "execution_count": 189,
   "metadata": {},
   "outputs": [],
   "source": [
    "def feature_norm(x,y):\n",
    "    newx,newy=np.zeros(x.shape),np.zeros(y.shape)\n",
    "    xmeans=np.mean(x,axis=0)\n",
    "    ymeans=np.mean(y,axis=0)\n",
    "    xsd=np.std(x,axis=0)\n",
    "    ysd=np.std(y,axis=0)\n",
    "    #print(xmeans,ymeans,xsd,ysd)\n",
    "    for i in range(len(xmeans)):\n",
    "        newx[:,i]=(newx[:,i]-xmeans[i])/float(xsd[i])\n",
    "    newy=(newy-ymeans)/ysd\n",
    "    return newx,newy,xmeans,xsd,ymeans,ysd"
   ]
  },
  {
   "cell_type": "code",
   "execution_count": 190,
   "metadata": {},
   "outputs": [],
   "source": [
    "def predict(X,theta):\n",
    "    return hyp(theta,X)"
   ]
  },
  {
   "cell_type": "code",
   "execution_count": 201,
   "metadata": {},
   "outputs": [],
   "source": [
    "data=pd.read_csv('../machine-learning-ex1/ex1/ex1data2.txt',header=None)"
   ]
  },
  {
   "cell_type": "code",
   "execution_count": 202,
   "metadata": {},
   "outputs": [
    {
     "name": "stdout",
     "output_type": "stream",
     "text": [
      "(47, 2) (47, 1)\n",
      "(3, 47) (47, 1)\n"
     ]
    }
   ],
   "source": [
    "xori,yori=data[data.columns[:-1]].values.reshape(-1,2),data[data.columns[-1]].values.reshape(-1,1)\n",
    "print(xori.shape,yori.shape)\n",
    "x,y,xmeans,xsd,ymeans,ysd=feature_norm(xori,yori)\n",
    "x=np.concatenate((np.ones((1,x.shape[0])),x.reshape(2,-1)))\n",
    "print(x.shape,y.shape)"
   ]
  },
  {
   "cell_type": "code",
   "execution_count": 203,
   "metadata": {},
   "outputs": [
    {
     "name": "stdout",
     "output_type": "stream",
     "text": [
      "Initial Cost :  3.78638005149\n"
     ]
    }
   ],
   "source": [
    "theta=np.zeros((3,1))\n",
    "print('Initial Cost : ',cost(x,y,theta))"
   ]
  },
  {
   "cell_type": "code",
   "execution_count": 204,
   "metadata": {},
   "outputs": [
    {
     "name": "stdout",
     "output_type": "stream",
     "text": [
      "final theta by gradeint descent :  [[-0.1155278 ]\n",
      " [ 0.3902291 ]\n",
      " [ 0.39024536]]  Final Cost by gradeint descent :  9.1714385912e-11\n"
     ]
    },
    {
     "data": {
      "image/png": "[encoded data removed]",
      "text/plain": [
       "<matplotlib.figure.Figure at 0x114ab27f0>"
      ]
     },
     "metadata": {},
     "output_type": "display_data"
    },
    {
     "name": "stdout",
     "output_type": "stream",
     "text": [
      "(3, 3) (3, 1)\n",
      "final theta by normal equation:  [[  2.98907793e+05]\n",
      " [  2.49535683e+01]\n",
      " [  1.63590148e+01]]  Final Cost by gradeint descent :  7487859962.26\n"
     ]
    }
   ],
   "source": [
    "trained_theta,cost_hist=update(x,y,theta,400,0.01,False)\n",
    "print('final theta by gradeint descent : ',trained_theta,' Final Cost by gradeint descent : ',cost(x,y,trained_theta))\n",
    "plt.plot(cost_hist)\n",
    "plt.show()\n",
    "\n",
    "\n",
    "\n",
    "xori=np.concatenate((np.ones((1,xori.shape[0])),xori.reshape(2,-1)))\n",
    "trained_theta_norm=normal(xori,yori)\n",
    "print('final theta by normal equation: ',trained_theta_norm,' Final Cost by gradeint descent : ',cost(xori,yori,trained_theta_norm))"
   ]
  },
  {
   "cell_type": "code",
   "execution_count": 195,
   "metadata": {},
   "outputs": [],
   "source": [
    "x1=(1650-xmeans[0])/xsd[0]\n",
    "x2=(3-xmeans[1])/xsd[1]"
   ]
  },
  {
   "cell_type": "code",
   "execution_count": 198,
   "metadata": {},
   "outputs": [
    {
     "name": "stdout",
     "output_type": "stream",
     "text": [
      "The cost of 1650 feet and 3 bedroom is  [ 293675.49361026]\n"
     ]
    }
   ],
   "source": [
    "print('The cost of 1650 feet and 3 bedroom is ',(predict(np.array([1,x1,x2]),trained_theta)*ysd)+ymeans)"
   ]
  }
 ],
 "metadata": {
  "kernelspec": {
   "display_name": "Python 3",
   "language": "python",
   "name": "python3"
  },
  "language_info": {
   "codemirror_mode": {
    "name": "ipython",
    "version": 3
   },
   "file_extension": ".py",
   "mimetype": "text/x-python",
   "name": "python",
   "nbconvert_exporter": "python",
   "pygments_lexer": "ipython3",
   "version": "3.6.4"
  }
 },
 "nbformat": 4,
 "nbformat_minor": 2
}
