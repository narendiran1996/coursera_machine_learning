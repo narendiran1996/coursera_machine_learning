{
 "cells": [
  {
   "cell_type": "code",
   "execution_count": 137,
   "metadata": {},
   "outputs": [],
   "source": [
    "import numpy as np\n",
    "import matplotlib.pyplot as plt\n",
    "import pandas as pd"
   ]
  },
  {
   "cell_type": "code",
   "execution_count": 138,
   "metadata": {},
   "outputs": [],
   "source": [
    "def sigmoid(Z):\n",
    "    return 1.0 / (1 + np.exp(-Z))"
   ]
  },
  {
   "cell_type": "code",
   "execution_count": 139,
   "metadata": {},
   "outputs": [],
   "source": [
    "def hyp(theta,X):\n",
    "    return sigmoid(np.dot(X,theta))"
   ]
  },
  {
   "cell_type": "code",
   "execution_count": 140,
   "metadata": {},
   "outputs": [],
   "source": [
    "def cost(theta,X,Y,lamda=0):\n",
    "    m=Y.shape[0]\n",
    "    return -(1.0/m) * np.sum((Y*np.log(hyp(theta.reshape(-1,1),X))) + ((1-Y)*np.log(1-hyp(theta.reshape(-1,1),X))))"
   ]
  },
  {
   "cell_type": "code",
   "execution_count": 141,
   "metadata": {},
   "outputs": [],
   "source": [
    "def grad(theta,X,Y):\n",
    "    m=Y.shape[0]\n",
    "    b= (1.0/m)*np.dot(X.T,(hyp(theta.reshape(-1,1),X)-Y))\n",
    "    return b"
   ]
  },
  {
   "cell_type": "code",
   "execution_count": 142,
   "metadata": {},
   "outputs": [],
   "source": [
    "def update(X,Y,theta,num_iter,alpha=0.01,debug=False):\n",
    "    costhist=[]\n",
    "    for i in range(num_iter):\n",
    "        theta = theta - (alpha * grad(theta,X,Y))\n",
    "   \n",
    "\n",
    "        c=cost(theta,X,Y)\n",
    "        costhist.append(c)\n",
    "        if debug and i%100000==0:\n",
    "            print(\"Cost after \" ,i,\" is \",c)\n",
    "            #plot_cont(x,y,trained_theta)\n",
    "            plt.show()\n",
    "    return theta,costhist"
   ]
  },
  {
   "cell_type": "code",
   "execution_count": 143,
   "metadata": {},
   "outputs": [],
   "source": [
    "def accracy(X,y,theta):\n",
    "    p=1*(hyp(theta,X)>0.5)\n",
    "    return np.sum(p==y)/float(y.shape[0])*100.0"
   ]
  },
  {
   "cell_type": "code",
   "execution_count": 144,
   "metadata": {},
   "outputs": [],
   "source": [
    "def predict(X,theta):\n",
    "    return hyp(theta,X)"
   ]
  },
  {
   "cell_type": "code",
   "execution_count": 145,
   "metadata": {},
   "outputs": [],
   "source": [
    "def plot_cont(x,y,trained_theta):\n",
    "    \n",
    "    xpos=x[(y==1)[:,0]]\n",
    "    xneg=x[(y==0)[:,0]]\n",
    "    plt.plot(xpos[:,0],xpos[:,1],'g*')\n",
    "    plt.plot(xneg[:,0],xneg[:,1],'c.')\n",
    "\n",
    "\n",
    "    plt.scatter(45, 85, s=60, c='r', marker='v', label='(45, 85)')\n",
    "    x1_min, x1_max = x[:,1].min(), x[:,1].max(),\n",
    "    x2_min, x2_max = x[:,2].min(), x[:,2].max(),\n",
    "    xx1, xx2 = np.meshgrid(np.linspace(x1_min, x1_max), np.linspace(x2_min, x2_max))\n",
    "    dxx=np.dot(np.c_[np.ones((xx1.ravel().shape[0],1)), xx1.ravel(), xx2.ravel()],trained_theta)\n",
    "    h = sigmoid(dxx)\n",
    "    h = h.reshape(xx1.shape)\n",
    "    #plt.contour(xx1, xx2, h, [0.5], linewidths=1, colors='b');\n",
    "    whereh = (h>=0.5)\n",
    "    print( np.sum(whereh))\n",
    "    plt.plot(xx1[whereh],xx2[whereh],'y+')"
   ]
  },
  {
   "cell_type": "code",
   "execution_count": 146,
   "metadata": {},
   "outputs": [],
   "source": [
    "def plot(x,y):\n",
    "    xpos=x[(y==1)[:,0]]\n",
    "    xneg=x[(y==0)[:,0]]\n",
    "\n",
    "    plt.plot(xpos[:,0],xpos[:,1],'g*')\n",
    "    plt.plot(xneg[:,0],xneg[:,1],'b.')"
   ]
  },
  {
   "cell_type": "code",
   "execution_count": 147,
   "metadata": {
    "scrolled": true
   },
   "outputs": [
    {
     "name": "stdout",
     "output_type": "stream",
     "text": [
      "(100, 2) (100, 1)\n",
      "(100, 3) (100, 1)\n"
     ]
    },
    {
     "data": {
      "image/png": "[encoded data removed]",
      "text/plain": [
       "<Figure size 432x288 with 1 Axes>"
      ]
     },
     "metadata": {},
     "output_type": "display_data"
    }
   ],
   "source": [
    "data=np.genfromtxt('../machine-learning-ex2/ex2/ex2data1.txt',delimiter=',')\n",
    "x,y=data[:,:-1],data[:,-1].reshape(-1,1)\n",
    "print(x.shape,y.shape)\n",
    "plot(x,y)\n",
    "x=np.hstack((np.ones((x.shape[0],1)),x))\n",
    "print(x.shape,y.shape)"
   ]
  },
  {
   "cell_type": "code",
   "execution_count": 148,
   "metadata": {
    "scrolled": true
   },
   "outputs": [
    {
     "name": "stdout",
     "output_type": "stream",
     "text": [
      "Cost: \n",
      " 0.6931471805599453\n",
      "Grad: \n",
      " [[ -0.1       ]\n",
      " [-12.00921659]\n",
      " [-11.26284221]]\n",
      "Cost after  0  is  1.5031542572512622\n",
      "Cost after  100000  is  0.7857887775174079\n",
      "Cost after  200000  is  0.2148178457079141\n",
      "Cost after  300000  is  0.21177759517961237\n",
      "Cost after  400000  is  0.20970028269631547\n",
      "Cost after  500000  is  0.20822774949587036\n",
      "Cost after  600000  is  0.20715497887908318\n",
      "Cost after  700000  is  0.2063567847654075\n",
      "Cost after  800000  is  0.20575287829871755\n",
      "Cost after  900000  is  0.20528974222032015\n",
      "Cost after  1000000  is  0.2049305816170884\n",
      "Cost after  1100000  is  0.20464944844187774\n",
      "Cost after  1200000  is  0.20442765347233935\n",
      "Cost after  1300000  is  0.20425149413571597\n",
      "Cost after  1400000  is  0.2041107707149116\n",
      "Cost after  1500000  is  0.20399779154426703\n",
      "Cost after  1600000  is  0.20390669068418518\n",
      "Cost after  1700000  is  0.20383295053155348\n",
      "Cost after  1800000  is  0.20377306193300274\n",
      "Cost after  1900000  is  0.20372427843394164\n",
      "Cost after  2000000  is  0.20368443613920192\n",
      "Cost after  2100000  is  0.20365182004313553\n",
      "Cost after  2200000  is  0.20362506374911202\n",
      "Cost after  2300000  is  0.2036030734937968\n",
      "Cost after  2400000  is  0.20358497007260404\n",
      "Cost after  2500000  is  0.2035700440913873\n",
      "Cost after  2600000  is  0.20355772123547586\n",
      "Cost after  2700000  is  0.203547535135772\n",
      "Cost after  2800000  is  0.20353910604320963\n",
      "Cost after  2900000  is  0.20353212397703016\n",
      "final theta by gradeint descent :  [[-24.72579935]\n",
      " [  0.20274813]\n",
      " [  0.19794735]]  Final Cost by gradeint descent :  0.203526335395052\n"
     ]
    },
    {
     "data": {
      "image/png": "[encoded data removed]",
      "text/plain": [
       "<Figure size 432x288 with 1 Axes>"
      ]
     },
     "metadata": {},
     "output_type": "display_data"
    },
    {
     "name": "stdout",
     "output_type": "stream",
     "text": [
      "Accuracy :  89.0\n"
     ]
    }
   ],
   "source": [
    "theta=np.zeros((3,1))\n",
    "\n",
    "costa = cost(theta, x,y)\n",
    "grada = grad(theta, x, y)\n",
    "print('Cost: \\n', costa)\n",
    "print('Grad: \\n', grada)\n",
    "\n",
    "trained_theta=theta\n",
    "\n",
    "trained_theta,cost_hist=update(x,y,trained_theta,3000000,0.003,True)\n",
    "print('final theta by gradeint descent : ',trained_theta,' Final Cost by gradeint descent : ',cost(trained_theta,x,y))\n",
    "plt.plot(cost_hist)\n",
    "plt.show()\n",
    "print('Accuracy : ',accracy(x,y,trained_theta))"
   ]
  },
  {
   "cell_type": "code",
   "execution_count": 149,
   "metadata": {
    "scrolled": false
   },
   "outputs": [
    {
     "name": "stdout",
     "output_type": "stream",
     "text": [
      "1462\n"
     ]
    },
    {
     "data": {
      "image/png": "[encoded data removed]",
      "text/plain": [
       "<Figure size 432x288 with 1 Axes>"
      ]
     },
     "metadata": {},
     "output_type": "display_data"
    }
   ],
   "source": [
    "plot_cont(x,y,trained_theta)"
   ]
  },
  {
   "cell_type": "code",
   "execution_count": 150,
   "metadata": {},
   "outputs": [
    {
     "name": "stdout",
     "output_type": "stream",
     "text": [
      "For a student with an Exam 1 score of 45 and an Exam 2 score of 85, the admission probability of is 0.7726598254815502\n"
     ]
    }
   ],
   "source": [
    "print('For a student with an Exam 1 score of 45 and an Exam 2 score of 85, the admission probability of is',predict([1,45,85],trained_theta)[0])"
   ]
  }
 ],
 "metadata": {
  "kernelspec": {
   "display_name": "Python 3",
   "language": "python",
   "name": "python3"
  },
  "language_info": {
   "codemirror_mode": {
    "name": "ipython",
    "version": 3
   },
   "file_extension": ".py",
   "mimetype": "text/x-python",
   "name": "python",
   "nbconvert_exporter": "python",
   "pygments_lexer": "ipython3",
   "version": "3.6.4"
  }
 },
 "nbformat": 4,
 "nbformat_minor": 2
}
