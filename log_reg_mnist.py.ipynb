{
 "cells": [
  {
   "cell_type": "code",
   "execution_count": 3,
   "metadata": {
    "collapsed": true
   },
   "outputs": [],
   "source": [
    "import numpy as np\n",
    "import scipy.io\n",
    "import cv2\n",
    "import time"
   ]
  },
  {
   "cell_type": "code",
   "execution_count": 110,
   "metadata": {
    "collapsed": true
   },
   "outputs": [],
   "source": [
    "import matplotlib.pyplot as plt\n",
    "get_ipython().magic(u'matplotlib inline')"
   ]
  },
  {
   "cell_type": "code",
   "execution_count": 111,
   "metadata": {
    "collapsed": true
   },
   "outputs": [],
   "source": [
    "def plot_onehidden(image):\n",
    "    plt.axis('off')\n",
    "    plt.imshow(image.reshape([20,20]),cmap='gray')"
   ]
  },
  {
   "cell_type": "code",
   "execution_count": 4,
   "metadata": {
    "collapsed": true
   },
   "outputs": [],
   "source": [
    "np.set_printoptions(suppress=True)"
   ]
  },
  {
   "cell_type": "code",
   "execution_count": 5,
   "metadata": {
    "collapsed": true
   },
   "outputs": [],
   "source": [
    "def show_img(img):\n",
    "    t=img.copy()\n",
    "    t=t.reshape(20,20)\n",
    "    t=cv2.resize(t, (200, 200))\n",
    "    cv2.imshow('image',t)\n",
    "    cv2.resizeWindow('image', 200,200)\n",
    "    cv2.waitKey(0)\n",
    "    cv2.destroyAllWindows"
   ]
  },
  {
   "cell_type": "code",
   "execution_count": 103,
   "metadata": {},
   "outputs": [],
   "source": [
    "mat = scipy.io.loadmat('..\\pg_Eg\\my_projects\\ex3data1.mat')\n",
    "\n",
    "m=5000\n",
    "y=mat['y']\n",
    "x=mat['X']\n",
    "_y=np.zeros([5000,10])\n",
    "theta=np.zeros([10,400])\n",
    "_x=x\n"
   ]
  },
  {
   "cell_type": "code",
   "execution_count": 104,
   "metadata": {
    "collapsed": true
   },
   "outputs": [],
   "source": [
    "def create_training_and_test():\n",
    "    \n",
    "    for i in range(5000):\n",
    "        if y[i][0]==10:\n",
    "            _y[i][0]=1\n",
    "        else:\n",
    "            _y[i][y[i][0]]=1"
   ]
  },
  {
   "cell_type": "code",
   "execution_count": 105,
   "metadata": {
    "collapsed": true
   },
   "outputs": [],
   "source": [
    "def sigmoid(z):\n",
    "    return 1.0/(1.0+np.exp(-z))\n",
    "\n",
    "def hyp():\n",
    "    global theta,_x\n",
    "    z=np.dot(_x,np.transpose(theta))\n",
    "    return sigmoid(z)\n",
    "\n",
    "def cost():\n",
    "    global _x,_y,m,theta\n",
    "    h=hyp()\n",
    "    return -(1.0/m)*np.sum((np.multiply(np.log(h),_y)+np.multiply(np.log(1-h),1-_y)))\n",
    "\n"
   ]
  },
  {
   "cell_type": "code",
   "execution_count": 106,
   "metadata": {
    "collapsed": true
   },
   "outputs": [],
   "source": [
    "def update_theta(alpha=0.5,num_iter=10000):\n",
    "        global _x,_y,theta,m\n",
    "        for it in range(num_iter):\n",
    "            ha=hyp()-_y\n",
    "\n",
    "            val=alpha*(1.0/m)*np.dot(np.transpose(ha),_x)\n",
    "            theta=theta-val\n",
    "            if it%(num_iter/100)==0:\n",
    "                print 'iterations =',it,'cost = ',cost()\n",
    "        print 'theta = ',theta"
   ]
  },
  {
   "cell_type": "code",
   "execution_count": 116,
   "metadata": {
    "collapsed": true
   },
   "outputs": [],
   "source": [
    "def predict(img_x):\n",
    "    ret=sigmoid(np.dot(img_x,np.transpose(theta)))\n",
    "    return ret,np.argmax(ret)"
   ]
  },
  {
   "cell_type": "code",
   "execution_count": 108,
   "metadata": {
    "collapsed": true
   },
   "outputs": [],
   "source": [
    "create_training_and_test()"
   ]
  },
  {
   "cell_type": "code",
   "execution_count": 109,
   "metadata": {},
   "outputs": [
    {
     "name": "stdout",
     "output_type": "stream",
     "text": [
      "iterations = 0 cost =  3.73731994874\n",
      "iterations = 100 cost =  1.0425908582\n",
      "iterations = 200 cost =  0.904456659995\n",
      "iterations = 300 cost =  0.84274603167\n",
      "iterations = 400 cost =  0.805254933928\n",
      "iterations = 500 cost =  0.779043135655\n",
      "iterations = 600 cost =  0.759188551996\n",
      "iterations = 700 cost =  0.743352979708\n",
      "iterations = 800 cost =  0.730260159148\n",
      "iterations = 900 cost =  0.719144121557\n",
      "iterations = 1000 cost =  0.709512460962\n",
      "iterations = 1100 cost =  0.701031724149\n",
      "iterations = 1200 cost =  0.693466674707\n",
      "iterations = 1300 cost =  0.686645778914\n",
      "iterations = 1400 cost =  0.680440476147\n",
      "iterations = 1500 cost =  0.674752156016\n",
      "iterations = 1600 cost =  0.669503666097\n",
      "iterations = 1700 cost =  0.664633596571\n",
      "iterations = 1800 cost =  0.660092328019\n",
      "iterations = 1900 cost =  0.655839233122\n",
      "iterations = 2000 cost =  0.651840653771\n",
      "iterations = 2100 cost =  0.648068411425\n",
      "iterations = 2200 cost =  0.644498691879\n",
      "iterations = 2300 cost =  0.641111197772\n",
      "iterations = 2400 cost =  0.637888495792\n",
      "iterations = 2500 cost =  0.634815507622\n",
      "iterations = 2600 cost =  0.631879108461\n",
      "iterations = 2700 cost =  0.629067807087\n",
      "iterations = 2800 cost =  0.626371488467\n",
      "iterations = 2900 cost =  0.623781204832\n",
      "iterations = 3000 cost =  0.621289004711\n",
      "iterations = 3100 cost =  0.618887791968\n",
      "iterations = 3200 cost =  0.616571208737\n",
      "iterations = 3300 cost =  0.614333537587\n",
      "iterations = 3400 cost =  0.612169619243\n",
      "iterations = 3500 cost =  0.610074782998\n",
      "iterations = 3600 cost =  0.608044787549\n",
      "iterations = 3700 cost =  0.606075770445\n",
      "iterations = 3800 cost =  0.604164204677\n"
     ]
    },
    {
     "ename": "KeyboardInterrupt",
     "evalue": "",
     "output_type": "error",
     "traceback": [
      "\u001b[1;31m---------------------------------------------------------------------------\u001b[0m",
      "\u001b[1;31mKeyboardInterrupt\u001b[0m                         Traceback (most recent call last)",
      "\u001b[1;32m<ipython-input-109-fbff425ad1a4>\u001b[0m in \u001b[0;36m<module>\u001b[1;34m()\u001b[0m\n\u001b[1;32m----> 1\u001b[1;33m \u001b[0mupdate_theta\u001b[0m\u001b[1;33m(\u001b[0m\u001b[1;33m)\u001b[0m\u001b[1;33m\u001b[0m\u001b[0m\n\u001b[0m\u001b[0;32m      2\u001b[0m \u001b[1;32mprint\u001b[0m \u001b[1;34m'trained successfully'\u001b[0m\u001b[1;33m\u001b[0m\u001b[0m\n",
      "\u001b[1;32m<ipython-input-106-4db58cb66adb>\u001b[0m in \u001b[0;36mupdate_theta\u001b[1;34m(alpha, num_iter)\u001b[0m\n\u001b[0;32m      2\u001b[0m         \u001b[1;32mglobal\u001b[0m \u001b[0m_x\u001b[0m\u001b[1;33m,\u001b[0m\u001b[0m_y\u001b[0m\u001b[1;33m,\u001b[0m\u001b[0mtheta\u001b[0m\u001b[1;33m,\u001b[0m\u001b[0mm\u001b[0m\u001b[1;33m\u001b[0m\u001b[0m\n\u001b[0;32m      3\u001b[0m         \u001b[1;32mfor\u001b[0m \u001b[0mit\u001b[0m \u001b[1;32min\u001b[0m \u001b[0mrange\u001b[0m\u001b[1;33m(\u001b[0m\u001b[0mnum_iter\u001b[0m\u001b[1;33m)\u001b[0m\u001b[1;33m:\u001b[0m\u001b[1;33m\u001b[0m\u001b[0m\n\u001b[1;32m----> 4\u001b[1;33m             \u001b[0mha\u001b[0m\u001b[1;33m=\u001b[0m\u001b[0mhyp\u001b[0m\u001b[1;33m(\u001b[0m\u001b[1;33m)\u001b[0m\u001b[1;33m-\u001b[0m\u001b[0m_y\u001b[0m\u001b[1;33m\u001b[0m\u001b[0m\n\u001b[0m\u001b[0;32m      5\u001b[0m \u001b[1;33m\u001b[0m\u001b[0m\n\u001b[0;32m      6\u001b[0m             \u001b[0mval\u001b[0m\u001b[1;33m=\u001b[0m\u001b[0malpha\u001b[0m\u001b[1;33m*\u001b[0m\u001b[1;33m(\u001b[0m\u001b[1;36m1.0\u001b[0m\u001b[1;33m/\u001b[0m\u001b[0mm\u001b[0m\u001b[1;33m)\u001b[0m\u001b[1;33m*\u001b[0m\u001b[0mnp\u001b[0m\u001b[1;33m.\u001b[0m\u001b[0mdot\u001b[0m\u001b[1;33m(\u001b[0m\u001b[0mnp\u001b[0m\u001b[1;33m.\u001b[0m\u001b[0mtranspose\u001b[0m\u001b[1;33m(\u001b[0m\u001b[0mha\u001b[0m\u001b[1;33m)\u001b[0m\u001b[1;33m,\u001b[0m\u001b[0m_x\u001b[0m\u001b[1;33m)\u001b[0m\u001b[1;33m\u001b[0m\u001b[0m\n",
      "\u001b[1;32m<ipython-input-105-292b6dd5e78d>\u001b[0m in \u001b[0;36mhyp\u001b[1;34m()\u001b[0m\n\u001b[0;32m      4\u001b[0m \u001b[1;32mdef\u001b[0m \u001b[0mhyp\u001b[0m\u001b[1;33m(\u001b[0m\u001b[1;33m)\u001b[0m\u001b[1;33m:\u001b[0m\u001b[1;33m\u001b[0m\u001b[0m\n\u001b[0;32m      5\u001b[0m     \u001b[1;32mglobal\u001b[0m \u001b[0mtheta\u001b[0m\u001b[1;33m,\u001b[0m\u001b[0m_x\u001b[0m\u001b[1;33m\u001b[0m\u001b[0m\n\u001b[1;32m----> 6\u001b[1;33m     \u001b[0mz\u001b[0m\u001b[1;33m=\u001b[0m\u001b[0mnp\u001b[0m\u001b[1;33m.\u001b[0m\u001b[0mdot\u001b[0m\u001b[1;33m(\u001b[0m\u001b[0m_x\u001b[0m\u001b[1;33m,\u001b[0m\u001b[0mnp\u001b[0m\u001b[1;33m.\u001b[0m\u001b[0mtranspose\u001b[0m\u001b[1;33m(\u001b[0m\u001b[0mtheta\u001b[0m\u001b[1;33m)\u001b[0m\u001b[1;33m)\u001b[0m\u001b[1;33m\u001b[0m\u001b[0m\n\u001b[0m\u001b[0;32m      7\u001b[0m     \u001b[1;32mreturn\u001b[0m \u001b[0msigmoid\u001b[0m\u001b[1;33m(\u001b[0m\u001b[0mz\u001b[0m\u001b[1;33m)\u001b[0m\u001b[1;33m\u001b[0m\u001b[0m\n\u001b[0;32m      8\u001b[0m \u001b[1;33m\u001b[0m\u001b[0m\n",
      "\u001b[1;31mKeyboardInterrupt\u001b[0m: "
     ]
    }
   ],
   "source": [
    "update_theta()\n",
    "print 'trained successfully'"
   ]
  },
  {
   "cell_type": "code",
   "execution_count": 16,
   "metadata": {},
   "outputs": [
    {
     "name": "stdout",
     "output_type": "stream",
     "text": [
      "0.537319400675\n",
      "[[ 0.          0.         -0.0000002  ..., -0.00030049  0.00001153  0.        ]\n",
      " [ 0.          0.          0.00002908 ...,  0.00131412  0.00000012  0.        ]\n",
      " [ 0.          0.         -0.0000395  ...,  0.00348639 -0.00040232  0.        ]\n",
      " ..., \n",
      " [ 0.          0.         -0.00002442 ..., -0.00057433  0.00006805  0.        ]\n",
      " [ 0.          0.         -0.00002267 ..., -0.00117843  0.00012286  0.        ]\n",
      " [ 0.          0.         -0.00000275 ..., -0.00244483  0.00016798  0.        ]]\n"
     ]
    }
   ],
   "source": [
    "print cost()\n",
    "print theta"
   ]
  },
  {
   "cell_type": "code",
   "execution_count": 146,
   "metadata": {},
   "outputs": [
    {
     "name": "stdout",
     "output_type": "stream",
     "text": [
      "[5]\n",
      "(array([ 0.00052703,  0.00000143,  0.00000004,  0.06110999,  0.00043385,\n",
      "        0.99711092,  0.00000509,  0.00000232,  0.17160841,  0.00012516]), 5)\n"
     ]
    },
    {
     "data": {
      "image/png": "[encoded data removed]",
      "text/plain": [
       "<matplotlib.figure.Figure at 0x1151c8d0>"
      ]
     },
     "metadata": {},
     "output_type": "display_data"
    }
   ],
   "source": [
    "no=np.random.randint(5000)\n",
    "print y[no]\n",
    "print predict(_x[no])\n",
    "plot_onehidden(_x[no])"
   ]
  }
 ],
 "metadata": {
  "kernelspec": {
   "display_name": "Python 2",
   "language": "python",
   "name": "python2"
  },
  "language_info": {
   "codemirror_mode": {
    "name": "ipython",
    "version": 2
   },
   "file_extension": ".py",
   "mimetype": "text/x-python",
   "name": "python",
   "nbconvert_exporter": "python",
   "pygments_lexer": "ipython2",
   "version": "2.7.13"
  }
 },
 "nbformat": 4,
 "nbformat_minor": 2
}
