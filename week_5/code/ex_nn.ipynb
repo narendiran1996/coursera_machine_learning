{
 "cells": [
  {
   "cell_type": "code",
   "execution_count": 30,
   "metadata": {},
   "outputs": [],
   "source": [
    "import numpy as np\n",
    "import matplotlib.pyplot as plt\n",
    "import scipy.io as sio\n",
    "import pandas as pd"
   ]
  },
  {
   "cell_type": "code",
   "execution_count": 31,
   "metadata": {},
   "outputs": [],
   "source": [
    "def sigmoid(Z):\n",
    "    return 1.0 / (1 + np.exp(-Z))\n",
    "def hyp(theta,X):\n",
    "    return sigmoid(np.dot(X,theta))"
   ]
  },
  {
   "cell_type": "code",
   "execution_count": 32,
   "metadata": {},
   "outputs": [],
   "source": [
    "def grad_sig(Z):\n",
    "    return sigmoid(Z)*(1-sigmoid(Z))"
   ]
  },
  {
   "cell_type": "code",
   "execution_count": 33,
   "metadata": {},
   "outputs": [],
   "source": [
    "def fp(X,t1,t2):\n",
    "    a1=X\n",
    "    a2=hyp(t1.T,a1)\n",
    "    a2=np.hstack((np.ones((X.shape[0],1)),a2))\n",
    "    a3=hyp(t2.T,a2)\n",
    "    return a3,a2,a1"
   ]
  },
  {
   "cell_type": "code",
   "execution_count": 34,
   "metadata": {},
   "outputs": [],
   "source": [
    "def bp(a1,a2,a3,y3,t1,t2):    \n",
    "    m=y3.shape[0]\n",
    "    dt2 = np.dot((a3 - y3).T,a2)\n",
    "    \n",
    "    temp = (np.dot((a3 - y3),t2)*(a2*(1-a2)))[:,1:]\n",
    "    dt1=np.dot(temp.T,a1)\n",
    "    \n",
    "    return (1.0 / m) * dt1,(1.0 / m) * dt2"
   ]
  },
  {
   "cell_type": "code",
   "execution_count": 35,
   "metadata": {},
   "outputs": [],
   "source": [
    "def cost(t1,t2,X,Y,lamda=0):\n",
    "    m=Y.shape[0]\n",
    "    a3,a2,a1=fp(X,t1,t2)\n",
    "    return (-(1.0/m) * np.sum((Y*np.log(a3)) + ((1-Y)*np.log(1-a3)))) + ((lamda / (2.0*m))*(np.sum(t1[:,1:]**2)+np.sum(t2[:,1:]**2)))"
   ]
  },
  {
   "cell_type": "code",
   "execution_count": 36,
   "metadata": {},
   "outputs": [],
   "source": [
    "def initilize_thetas(input_layer_size,hidden_layer_size,num_labels,e=0.12):\n",
    "    theta1=(np.random.rand(input_layer_size+1,hidden_layer_size) * (2 * e)) - e\n",
    "    theta2=(np.random.rand(hidden_layer_size+1,num_labels) * (2 * e)) - e\n",
    "    return theta1.T,theta2.T"
   ]
  },
  {
   "cell_type": "code",
   "execution_count": 37,
   "metadata": {},
   "outputs": [],
   "source": [
    "def update(X,Y,num_iter,alpha=0.01,lamda=0,debug=False,div=10):\n",
    "    \n",
    "    input_layer_size  = 400\n",
    "    hidden_layer_size = 25\n",
    "    num_labels = 10\n",
    "    t1,t2=initilize_thetas(input_layer_size,hidden_layer_size,num_labels)\n",
    "    \n",
    "    costhist=[]\n",
    "    for i in range(num_iter):\n",
    "        a3,a2,a1=fp(X,t1,t2)\n",
    "        dt1,dt2=bp(a1,a2,a3,Y,t1,t2)\n",
    "        t1 = t1 - (alpha * dt1)\n",
    "        t2 = t2 - (alpha * dt2)\n",
    "        c=cost(t1,t2,X,Y,lamda)\n",
    "        costhist.append(c)\n",
    "        if debug and i%div==0:\n",
    "            print(\"Cost after \" ,i,\" is \",c,' Accuaracy',accuracy(X,Y,t1,t2))\n",
    "            \n",
    "    return t1,t2,costhist"
   ]
  },
  {
   "cell_type": "code",
   "execution_count": 38,
   "metadata": {},
   "outputs": [],
   "source": [
    "def load_data(f):\n",
    "    s=sio.loadmat(f)\n",
    "    X,Y=s['X'],s['y']\n",
    "    g=np.random.randint(0,X.shape[0],100)\n",
    "    v=X[g,:].reshape(100,20,20)\n",
    "    k=0\n",
    "    for i in range(0,10):\n",
    "        k=v[i*10:((i+1)*10),:]\n",
    "        if i==0:\n",
    "            ll=k.reshape(200,20).T\n",
    "        else:\n",
    "            ll=np.vstack((ll,k.reshape(200,20).T))\n",
    "    plt.imshow(ll)\n",
    "    return X,Y.reshape(-1,1)"
   ]
  },
  {
   "cell_type": "code",
   "execution_count": 39,
   "metadata": {},
   "outputs": [],
   "source": [
    "def accuracy(X,Y,t1,t2):\n",
    "    p,_1,_2=fp(X,t1,t2)\n",
    "    return 100*np.sum(((np.argmax(p,axis=1)))==np.argmax(Y,axis=1))/Y.shape[0]"
   ]
  },
  {
   "cell_type": "code",
   "execution_count": 40,
   "metadata": {},
   "outputs": [
    {
     "name": "stdout",
     "output_type": "stream",
     "text": [
      "[0 0 0 0 0 1 0 0 0 0]\n",
      "(5000, 401) (5000, 10)\n"
     ]
    },
    {
     "data": {
      "image/png": "[encoded data removed]",
      "text/plain": [
       "<Figure size 432x288 with 1 Axes>"
      ]
     },
     "metadata": {},
     "output_type": "display_data"
    }
   ],
   "source": [
    "X,y=load_data('../machine-learning-ex4/ex4/ex4data1.mat')\n",
    "X=np.hstack((np.ones((y.size,1)),X))\n",
    "\n",
    "Y = pd.get_dummies(y.ravel()).as_matrix() \n",
    "\n",
    "idx=3343\n",
    "plt.imshow(X[idx][1:].reshape(20,20),cmap='gray')\n",
    "print(Y[idx])\n",
    "print(X.shape,Y.shape)"
   ]
  },
  {
   "cell_type": "code",
   "execution_count": 41,
   "metadata": {},
   "outputs": [
    {
     "name": "stdout",
     "output_type": "stream",
     "text": [
      "(25, 401) (10, 26)\n"
     ]
    }
   ],
   "source": [
    "w=sio.loadmat('../machine-learning-ex4/ex4/ex4weights.mat')\n",
    "Theta1,Theta2=w['Theta1'],w['Theta2']\n",
    "print(Theta1.shape,Theta2.shape)"
   ]
  },
  {
   "cell_type": "code",
   "execution_count": 42,
   "metadata": {},
   "outputs": [
    {
     "name": "stdout",
     "output_type": "stream",
     "text": [
      "Initial Cost :  0.2876291651613189\n",
      "Cost with lamda = 1 :  0.38376985909092365\n"
     ]
    }
   ],
   "source": [
    "print('Initial Cost : ',cost(Theta1,Theta2,X,Y))\n",
    "print('Cost with lamda = 1 : ',cost(Theta1,Theta2,X,Y,1))"
   ]
  },
  {
   "cell_type": "code",
   "execution_count": 43,
   "metadata": {
    "scrolled": true
   },
   "outputs": [
    {
     "name": "stdout",
     "output_type": "stream",
     "text": [
      "Diff of Gradient at Z = 0 : 0.25\n"
     ]
    }
   ],
   "source": [
    "print('Diff of Gradient at Z = 0 :',grad_sig(0))"
   ]
  },
  {
   "cell_type": "code",
   "execution_count": 47,
   "metadata": {
    "scrolled": true
   },
   "outputs": [
    {
     "name": "stdout",
     "output_type": "stream",
     "text": [
      "Cost after  0  is  3.3753922469848154  Accuaracy 11.04\n",
      "Cost after  100  is  1.335790762329481  Accuaracy 84.26\n",
      "Cost after  200  is  0.8624766440948328  Accuaracy 89.74\n",
      "Cost after  300  is  0.7041586084373159  Accuaracy 91.7\n",
      "Cost after  400  is  0.6260709505773661  Accuaracy 92.72\n",
      "Cost after  500  is  0.578004924065786  Accuaracy 93.24\n",
      "Cost after  600  is  0.544374852441692  Accuaracy 93.78\n",
      "Cost after  700  is  0.5188196947884723  Accuaracy 94.28\n",
      "Cost after  800  is  0.49828590324029864  Accuaracy 94.62\n",
      "Cost after  900  is  0.48115725781008617  Accuaracy 94.92\n",
      "Final Accuracy :  95.18\n"
     ]
    }
   ],
   "source": [
    "t1,t2,ch=update(X,Y,1000,0.9,1,debug=True,div=100)\n",
    "print('Final Accuracy : ',accuracy(X,Y,t1,t2))"
   ]
  },
  {
   "cell_type": "code",
   "execution_count": 61,
   "metadata": {
    "scrolled": true
   },
   "outputs": [
    {
     "data": {
      "image/png": "[encoded data removed]",
      "text/plain": [
       "<Figure size 432x288 with 1 Axes>"
      ]
     },
     "metadata": {},
     "output_type": "display_data"
    }
   ],
   "source": [
    "v=t1[:,1:]\n",
    "for i in range(0,5):\n",
    "    k=v[i*5:((i+1)*5),:]\n",
    "    if i==0:\n",
    "        ll=k.reshape(100,20).T\n",
    "    else:\n",
    "        ll=np.vstack((ll,k.reshape(100,20).T))\n",
    "plt.imshow(ll,cmap='gray')\n",
    "plt.show()"
   ]
  },
  {
   "cell_type": "code",
   "execution_count": 63,
   "metadata": {},
   "outputs": [
    {
     "name": "stdout",
     "output_type": "stream",
     "text": [
      "Cost after  0  is  4.893641540528041  Accuaracy 10.0\n",
      "Cost after  1000  is  0.23376757223883934  Accuaracy 97.7\n",
      "Cost after  2000  is  0.13010894036733675  Accuaracy 98.9\n",
      "Cost after  3000  is  0.08484431512647837  Accuaracy 99.52\n",
      "Cost after  4000  is  0.06041725408690054  Accuaracy 99.78\n",
      "Cost after  5000  is  0.04578372741704455  Accuaracy 99.88\n",
      "Cost after  6000  is  0.03625716955808833  Accuaracy 99.92\n",
      "Cost after  7000  is  0.02963908263950993  Accuaracy 99.94\n",
      "Cost after  8000  is  0.02482899040033144  Accuaracy 99.96\n",
      "Cost after  9000  is  0.021216833225101126  Accuaracy 99.96\n",
      "Final Accuracy :  99.96\n"
     ]
    }
   ],
   "source": [
    "t1,t2,ch=update(X,Y,10000,2,0,debug=True,div=1000)\n",
    "print('Final Accuracy : ',accuracy(X,Y,t1,t2))"
   ]
  }
 ],
 "metadata": {
  "kernelspec": {
   "display_name": "Python 3",
   "language": "python",
   "name": "python3"
  },
  "language_info": {
   "codemirror_mode": {
    "name": "ipython",
    "version": 3
   },
   "file_extension": ".py",
   "mimetype": "text/x-python",
   "name": "python",
   "nbconvert_exporter": "python",
   "pygments_lexer": "ipython3",
   "version": "3.6.4"
  }
 },
 "nbformat": 4,
 "nbformat_minor": 2
}
