{
 "cells": [
  {
   "cell_type": "code",
   "execution_count": 186,
   "metadata": {},
   "outputs": [],
   "source": [
    "import numpy as np\n",
    "import matplotlib.pyplot as plt\n",
    "import scipy.io as sio"
   ]
  },
  {
   "cell_type": "code",
   "execution_count": 187,
   "metadata": {},
   "outputs": [],
   "source": [
    "def load_data(f):\n",
    "    s=sio.loadmat(f)\n",
    "    X,Y=s['X'],s['y']\n",
    "    g=np.random.randint(0,X.shape[0],100)\n",
    "    v=X[g,:].reshape(100,20,20)\n",
    "    k=0\n",
    "    for i in range(0,10):\n",
    "        k=v[i*10:((i+1)*10),:]\n",
    "        if i==0:\n",
    "            ll=k.reshape(200,20).T\n",
    "        else:\n",
    "            ll=np.vstack((ll,k.reshape(200,20).T))\n",
    "    plt.imshow(ll)\n",
    "    return X,Y.reshape(-1,1)"
   ]
  },
  {
   "cell_type": "code",
   "execution_count": 188,
   "metadata": {},
   "outputs": [],
   "source": [
    "def sigmoid(Z):\n",
    "    return 1.0 / (1 + np.exp(-Z))"
   ]
  },
  {
   "cell_type": "code",
   "execution_count": 189,
   "metadata": {},
   "outputs": [],
   "source": [
    "def hyp(theta,X):\n",
    "    return sigmoid(np.dot(X,theta))"
   ]
  },
  {
   "cell_type": "code",
   "execution_count": 190,
   "metadata": {},
   "outputs": [],
   "source": [
    "def cost(theta,X,Y,lamda=0):\n",
    "    m=Y.shape[0]\n",
    "    return (-(1.0/m) * np.sum((Y*np.log(hyp(theta,X))) + ((1-Y)*np.log(1-hyp(theta,X))))) + ((lamda / (2.0*m))*np.sum(theta[1:]**2))"
   ]
  },
  {
   "cell_type": "code",
   "execution_count": 241,
   "metadata": {},
   "outputs": [],
   "source": [
    "def grad(theta,X,Y,lamda=0):\n",
    "    m=Y.shape[0]\n",
    "    reg=np.vstack((np.zeros((1,theta.shape[1])),(lamda/m) * theta[1:]))\n",
    "    return ((1.0/m)*np.dot(X.T,(hyp(theta,X)-Y))) + reg"
   ]
  },
  {
   "cell_type": "code",
   "execution_count": 243,
   "metadata": {},
   "outputs": [],
   "source": [
    "def update(X,Y,theta,num_iter,alpha=0.01,lamda=0,debug=False,div=10):\n",
    "    costhist=[]\n",
    "    for i in range(num_iter):\n",
    "        \n",
    "        theta = theta - (alpha * grad(theta,X,Y,lamda))\n",
    "        c=cost(theta,X,Y)\n",
    "        costhist.append(c)\n",
    "        if debug and i%div==0:\n",
    "            print(\"Cost after \" ,i,\" is \",c)\n",
    "            \n",
    "    return theta,costhist"
   ]
  },
  {
   "cell_type": "code",
   "execution_count": 253,
   "metadata": {},
   "outputs": [],
   "source": [
    "def accuracy(X,Y,trained_theta):\n",
    "    p=hyp(trained_theta,X)\n",
    "    return 100*np.sum((np.argmax(p,axis=1)==np.argmax(Y,axis=1)))/Y.shape[0]"
   ]
  },
  {
   "cell_type": "code",
   "execution_count": 235,
   "metadata": {},
   "outputs": [
    {
     "name": "stdout",
     "output_type": "stream",
     "text": [
      "[0. 0. 0. 0. 0. 0. 1. 0. 0. 0.]\n",
      "(5000, 401) (5000, 10)\n"
     ]
    },
    {
     "data": {
      "image/png": "[encoded data removed]",
      "text/plain": [
       "<Figure size 432x288 with 1 Axes>"
      ]
     },
     "metadata": {},
     "output_type": "display_data"
    }
   ],
   "source": [
    "X,y=load_data('../machine-learning-ex3/ex3/ex3data1.mat')\n",
    "X=np.hstack((np.ones((y.size,1)),X))\n",
    "Y=np.zeros((y.size,10))\n",
    "nos=(y%10)[:,0]\n",
    "for i in range(0,y.size):\n",
    "    Y[i,nos[i]]=1\n",
    "idx=3343\n",
    "plt.imshow(X[idx][1:].reshape(20,20))\n",
    "print(Y[idx])\n",
    "print(X.shape,Y.shape)"
   ]
  },
  {
   "cell_type": "code",
   "execution_count": 238,
   "metadata": {},
   "outputs": [
    {
     "name": "stdout",
     "output_type": "stream",
     "text": [
      "cost :  2.534819396109744\n",
      "grad :  [[ 0.14656137]\n",
      " [-0.54855841]\n",
      " [ 0.72472227]\n",
      " [ 1.39800296]]\n"
     ]
    }
   ],
   "source": [
    "theta_t = np.array([-2, -1, 1, 2]).reshape(-1,1)\n",
    "X_t = np.vstack((np.ones((1,5)),np.arange(1,16).reshape(3,5)/10)).T\n",
    "y_t = np.array([1,0,1,0,1]).reshape(-1,1)\n",
    "lambda_t = 3;\n",
    "print('cost : ',cost(theta_t,X_t,y_t,lambda_t))\n",
    "print('grad : ',grad(theta_t,X_t,y_t,lambda_t))"
   ]
  },
  {
   "cell_type": "code",
   "execution_count": 258,
   "metadata": {},
   "outputs": [
    {
     "name": "stdout",
     "output_type": "stream",
     "text": [
      "Cost after  0  is  21.119392873493275\n",
      "Cost after  100  is  0.7174590765135768\n",
      "Cost after  200  is  0.6292480728668696\n",
      "Cost after  300  is  0.5885421119940597\n",
      "Cost after  400  is  0.5628398452864289\n",
      "Cost after  500  is  0.5450904176739019\n",
      "Cost after  600  is  0.532262921630002\n",
      "Cost after  700  is  0.52182563826398\n",
      "Cost after  800  is  0.5129739807176225\n",
      "Cost after  900  is  0.5053034619387479\n",
      "Cost after  1000  is  0.4985467947369129\n",
      "Cost after  1100  is  0.49251813379773324\n",
      "Cost after  1200  is  0.487083054712179\n",
      "Cost after  1300  is  0.4821411831502237\n",
      "Cost after  1400  is  0.4776155864128722\n",
      "Cost after  1500  is  0.473445998636081\n",
      "Cost after  1600  is  0.4695843283205323\n",
      "Cost after  1700  is  0.46599158309815175\n",
      "Cost after  1800  is  0.46263570728132286\n",
      "Cost after  1900  is  0.4594900260098227\n",
      "Cost after  2000  is  0.4565321033348992\n",
      "Cost after  2100  is  0.45374288912581934\n",
      "Cost after  2200  is  0.4511060713703706\n",
      "Cost after  2300  is  0.4486075770345128\n",
      "Cost after  2400  is  0.4462351820831193\n",
      "Cost after  2500  is  0.44397820293552986\n",
      "Cost after  2600  is  0.44182724956248914\n",
      "Cost after  2700  is  0.4397740258896954\n",
      "Cost after  2800  is  0.43781116697422195\n",
      "Cost after  2900  is  0.43593210510077224\n",
      "Cost after  3000  is  0.4341309588615979\n",
      "Cost after  3100  is  0.4324024406744394\n",
      "Cost after  3200  is  0.43074177921606155\n",
      "Cost after  3300  is  0.4291446540122329\n",
      "Cost after  3400  is  0.4276071400016662\n",
      "Cost after  3500  is  0.42612566033233\n",
      "Cost after  3600  is  0.42469694598930746\n",
      "Cost after  3700  is  0.4233180011194767\n",
      "Cost after  3800  is  0.4219860731280253\n",
      "Cost after  3900  is  0.4206986267885726\n",
      "Cost after  4000  is  0.41945332174230954\n",
      "Cost after  4100  is  0.41824799286943165\n",
      "Cost after  4200  is  0.4170806331037297\n",
      "Cost after  4300  is  0.4159493783327253\n",
      "Cost after  4400  is  0.4148524940844006\n",
      "Cost after  4500  is  0.41378836374986017\n",
      "Cost after  4600  is  0.41275547813113517\n",
      "Cost after  4700  is  0.4117524261363503\n",
      "Cost after  4800  is  0.4107778864718451\n",
      "Cost after  4900  is  0.4098306202036076\n",
      "Cost after  5000  is  0.4089094640793181\n",
      "Cost after  5100  is  0.4080133245181235\n",
      "Cost after  5200  is  0.4071411721884904\n",
      "Cost after  5300  is  0.4062920371055813\n",
      "Cost after  5400  is  0.4054650041889347\n",
      "Cost after  5500  is  0.4046592092291098\n",
      "Cost after  5600  is  0.40387383521863307\n",
      "Cost after  5700  is  0.4031081090082589\n",
      "Cost after  5800  is  0.4023612982544015\n",
      "Cost after  5900  is  0.401632708627747\n",
      "Cost after  6000  is  0.40092168125662564\n",
      "Cost after  6100  is  0.40022759038180705\n",
      "Cost after  6200  is  0.3995498412020531\n",
      "Cost after  6300  is  0.3988878678920858\n",
      "Cost after  6400  is  0.39824113177665266\n",
      "Cost after  6500  is  0.3976091196461437\n",
      "Cost after  6600  is  0.396991342200773\n",
      "Cost after  6700  is  0.39638733261169723\n",
      "Cost after  6800  is  0.39579664518865887\n",
      "Cost after  6900  is  0.3952188541447961\n",
      "Cost after  7000  is  0.39465355245021433\n",
      "Cost after  7100  is  0.3941003507667428\n",
      "Cost after  7200  is  0.3935588764570493\n",
      "Cost after  7300  is  0.3930287726619412\n",
      "Cost after  7400  is  0.392509697440277\n",
      "Cost after  7500  is  0.39200132296643553\n",
      "Cost after  7600  is  0.39150333478076205\n",
      "Cost after  7700  is  0.3910154310888303\n",
      "Cost after  7800  is  0.3905373221057417\n",
      "Cost after  7900  is  0.3900687294420184\n",
      "Cost after  8000  is  0.38960938552795205\n",
      "Cost after  8100  is  0.3891590330735487\n",
      "Cost after  8200  is  0.38871742456145164\n",
      "Cost after  8300  is  0.3882843217704532\n",
      "Cost after  8400  is  0.38785949532740327\n",
      "Cost after  8500  is  0.3874427242855068\n",
      "Cost after  8600  is  0.3870337957271689\n",
      "Cost after  8700  is  0.3866325043896922\n",
      "Cost after  8800  is  0.38623865231227\n",
      "Cost after  8900  is  0.38585204850284127\n",
      "Cost after  9000  is  0.38547250862348476\n",
      "Cost after  9100  is  0.3850998546931329\n",
      "Cost after  9200  is  0.3847339148064789\n",
      "Cost after  9300  is  0.38437452286803514\n",
      "Cost after  9400  is  0.3840215183403788\n",
      "Cost after  9500  is  0.38367474600569285\n",
      "Cost after  9600  is  0.38333405573977314\n",
      "Cost after  9700  is  0.38299930229773416\n",
      "Cost after  9800  is  0.3826703451107009\n",
      "Cost after  9900  is  0.3823470480928217\n",
      " Final Cost by gradeint descent :  0.38203243020134947 Accuracy :  96.02\n"
     ]
    },
    {
     "data": {
      "image/png": "[encoded data removed]",
      "text/plain": [
       "<Figure size 432x288 with 1 Axes>"
      ]
     },
     "metadata": {},
     "output_type": "display_data"
    }
   ],
   "source": [
    "theta=np.zeros((X.shape[1],10))\n",
    "trained_theta=theta\n",
    "trained_theta,cost_hist=update(X,Y,trained_theta,10000,alpha=3,lamda=0.1,debug=True,div=100)\n",
    "print(' Final Cost by gradeint descent : ',cost(trained_theta,X,Y),'Accuracy : ',accuracy(X,Y,trained_theta))\n",
    "plt.plot(cost_hist)\n",
    "plt.show()"
   ]
  },
  {
   "cell_type": "code",
   "execution_count": null,
   "metadata": {},
   "outputs": [],
   "source": []
  }
 ],
 "metadata": {
  "kernelspec": {
   "display_name": "Python 3",
   "language": "python",
   "name": "python3"
  },
  "language_info": {
   "codemirror_mode": {
    "name": "ipython",
    "version": 3
   },
   "file_extension": ".py",
   "mimetype": "text/x-python",
   "name": "python",
   "nbconvert_exporter": "python",
   "pygments_lexer": "ipython3",
   "version": "3.6.4"
  }
 },
 "nbformat": 4,
 "nbformat_minor": 2
}
