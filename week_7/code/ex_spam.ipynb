{
 "cells": [
  {
   "cell_type": "code",
   "execution_count": 135,
   "metadata": {},
   "outputs": [],
   "source": [
    "import numpy as np\n",
    "import re\n",
    "import nltk\n",
    "import pandas as pd\n",
    "import scipy.io as sio\n",
    "from sklearn.svm import SVC"
   ]
  },
  {
   "cell_type": "markdown",
   "metadata": {},
   "source": [
    "# Spam Pre Processor"
   ]
  },
  {
   "cell_type": "code",
   "execution_count": 151,
   "metadata": {},
   "outputs": [],
   "source": [
    "def process_email(email):\n",
    "    \n",
    "    tab_email = re.sub('[ \\t\\n]+', ' ',email) \n",
    "    \n",
    "    l_email = tab_email.lower()\n",
    "    \n",
    "    html_tag = re.sub(r\"<[^<>]+>\",\"\", l_email)\n",
    "    \n",
    "    url_email = re.sub(r\"(http|https)://[^\\s]*\",\"httpaddr\",html_tag)\n",
    "    \n",
    "    email_email = re.sub('[^\\s]+@[^\\s]+', 'emailaddr', url_email);\n",
    "\n",
    "    email_num = re.sub('[0-9]+', ' number ', email_email)\n",
    "\n",
    "    email_dollar = re.sub('[$]+', ' dollar ', email_num);\n",
    "    \n",
    "    email_alphabets = re.sub('[^a-zA-Z ]', '', email_dollar);\n",
    "    \n",
    "    email_extra_space = re.sub(' +',' ',email_alphabets)\n",
    "    \n",
    "    stemmer = nltk.stem.porter.PorterStemmer()\n",
    "\n",
    "    \n",
    "    stemmed_email = []\n",
    "    for s in email_extra_space.split(' '):\n",
    "      \n",
    "        stemmed = stemmer.stem(s)\n",
    "        if stemmed != '':\n",
    "            stemmed_email.append(stemmed+' ')\n",
    "    return ''.join(stemmed_email)"
   ]
  },
  {
   "cell_type": "code",
   "execution_count": 152,
   "metadata": {},
   "outputs": [],
   "source": [
    "def get_vocabulary():\n",
    "    voca_data=pd.read_csv('../machine-learning-ex6/ex6/vocab.txt','\\t',header=None)\n",
    "    keys=voca_data[voca_data.columns[1]].values\n",
    "    val=voca_data[voca_data.columns[0]].values\n",
    "    return dict(zip(keys, val))"
   ]
  },
  {
   "cell_type": "code",
   "execution_count": 153,
   "metadata": {},
   "outputs": [],
   "source": [
    "def get_word_indx(email):\n",
    "    pemail = process_email(email)\n",
    "    voc = get_vocabulary()\n",
    "    j = []\n",
    "    for i in pemail.split(' '):\n",
    "        if i in voc.keys():\n",
    "            j.append(voc[i])\n",
    "    return j"
   ]
  },
  {
   "cell_type": "code",
   "execution_count": 154,
   "metadata": {},
   "outputs": [],
   "source": [
    "def get_feature(email):\n",
    "    wi=get_word_indx(email)\n",
    "    f = np.zeros((1899,1))\n",
    "    f[wi]=1\n",
    "    return f"
   ]
  },
  {
   "cell_type": "code",
   "execution_count": 155,
   "metadata": {},
   "outputs": [
    {
     "name": "stdout",
     "output_type": "stream",
     "text": [
      "anyon know how much it cost to host a web portal well it depend on how mani visitor your expect thi can be anywher from less than number buck a month to a coupl of dollar number you should checkout httpaddr or perhap amazon ec number if your run someth big to unsubscrib yourself from thi mail list send an email to emailaddr \n",
      "[86, 916, 794, 1077, 883, 370, 1699, 790, 1822, 1831, 883, 431, 1171, 794, 1002, 1895, 592, 1676, 238, 162, 89, 688, 945, 1663, 1120, 1062, 1699, 375, 1162, 477, 1120, 1893, 1510, 799, 1182, 1237, 512, 1120, 810, 1895, 1440, 1547, 181, 1699, 1758, 1896, 688, 1676, 992, 961, 1477, 71, 530, 1699, 531]\n",
      "[[0.]\n",
      " [0.]\n",
      " [0.]\n",
      " ...\n",
      " [1.]\n",
      " [0.]\n",
      " [0.]]\n"
     ]
    }
   ],
   "source": [
    "fi=open('../machine-learning-ex6/ex6/emailSample1.txt').read()\n",
    "print(process_email(fi))\n",
    "print(get_word_indx(fi))\n",
    "print(get_feature(fi))"
   ]
  },
  {
   "cell_type": "markdown",
   "metadata": {},
   "source": [
    "# Spam Classifier"
   ]
  },
  {
   "cell_type": "code",
   "execution_count": 156,
   "metadata": {},
   "outputs": [],
   "source": [
    "def predict_spam(svm,email):\n",
    "    x=get_feature(email)\n",
    "    return svm.predict(x.T)"
   ]
  },
  {
   "cell_type": "code",
   "execution_count": 157,
   "metadata": {},
   "outputs": [
    {
     "name": "stdout",
     "output_type": "stream",
     "text": [
      "dict_keys(['__header__', '__version__', '__globals__', 'X', 'y']) dict_keys(['__header__', '__version__', '__globals__', 'Xtest', 'ytest'])\n",
      "(4000, 1899) (4000, 1) (1000, 1899) (1000, 1)\n"
     ]
    }
   ],
   "source": [
    "train_data=sio.loadmat('../machine-learning-ex6/ex6/spamTrain.mat')\n",
    "test_data=sio.loadmat('../machine-learning-ex6/ex6/spamTest.mat')\n",
    "print(train_data.keys(),test_data.keys())\n",
    "X,Y,Xtest,Ytest=train_data['X'],train_data['y'],test_data['Xtest'],test_data['ytest']\n",
    "print(X.shape,Y.shape,Xtest.shape,Ytest.shape)"
   ]
  },
  {
   "cell_type": "code",
   "execution_count": 158,
   "metadata": {},
   "outputs": [
    {
     "name": "stdout",
     "output_type": "stream",
     "text": [
      "Training set accuracy :  0.944  Test set accuracy :  0.953\n"
     ]
    }
   ],
   "source": [
    "clf = SVC(kernel='rbf')\n",
    "clf.fit(X, Y.ravel())\n",
    "print('Training set accuracy : ',clf.score(X,Y),' Test set accuracy : ',clf.score(Xtest,Ytest))"
   ]
  },
  {
   "cell_type": "code",
   "execution_count": 159,
   "metadata": {},
   "outputs": [
    {
     "name": "stdout",
     "output_type": "stream",
     "text": [
      "anyon know how much it cost to host a web portal well it depend on how mani visitor your expect thi can be anywher from less than number buck a month to a coupl of dollar number you should checkout httpaddr or perhap amazon ec number if your run someth big to unsubscrib yourself from thi mail list send an email to emailaddr \n",
      "[86, 916, 794, 1077, 883, 370, 1699, 790, 1822, 1831, 883, 431, 1171, 794, 1002, 1895, 592, 1676, 238, 162, 89, 688, 945, 1663, 1120, 1062, 1699, 375, 1162, 477, 1120, 1893, 1510, 799, 1182, 1237, 512, 1120, 810, 1895, 1440, 1547, 181, 1699, 1758, 1896, 688, 1676, 992, 961, 1477, 71, 530, 1699, 531]\n",
      "[[0.]\n",
      " [0.]\n",
      " [0.]\n",
      " ...\n",
      " [1.]\n",
      " [0.]\n",
      " [0.]]\n",
      "Spam Probability :  [0]\n",
      "folk my first time post have a bit of unix experi but am new to linux just got a new pc at home dell box with window xp ad a second hard disk for linux partit the disk and have instal suse number number from cd which went fine except it didnt pick up my monitor i have a dell brand e number fpp number lcd flat panel monitor and a nvidia geforc number ti number video card both of which are probabl too new to featur in suse default set i download a driver from the nvidia websit and instal it use rpm then i ran sax number as wa recommend in some post i found on the net but it still doesnt featur my video card in the avail list what next anoth problem i have a dell brand keyboard and if i hit capslock twice the whole machin crash in linux not window even the onoff switch is inact leav me to reach for the power cabl instead if anyon can help me in ani way with these prob id be realli grate ive search the net but have run out of idea or should i be go for a differ version of linux such as redhat opinion welcom thank a lot peter irish linux user group emailaddr httpaddr for unsubscript inform list maintain emailaddr \n",
      "[662, 1084, 652, 1694, 1280, 756, 186, 1162, 1752, 594, 225, 64, 1099, 1699, 960, 902, 726, 1099, 1228, 124, 787, 427, 208, 1860, 1855, 1885, 21, 1464, 752, 464, 666, 960, 1217, 1666, 464, 74, 756, 847, 1627, 1120, 1120, 688, 259, 1840, 1832, 647, 583, 883, 1249, 1760, 1084, 1061, 756, 427, 210, 1120, 1120, 1208, 1061, 74, 1120, 1691, 1120, 1792, 246, 204, 1162, 1840, 1308, 1708, 1099, 1699, 626, 825, 1627, 417, 1494, 487, 492, 688, 1666, 1824, 74, 847, 883, 1437, 1671, 1120, 116, 1803, 1376, 825, 1545, 1280, 677, 1171, 1666, 1095, 225, 883, 1590, 626, 1084, 1792, 246, 825, 1666, 139, 961, 1835, 1101, 80, 1309, 756, 427, 210, 909, 74, 810, 785, 1666, 1845, 988, 380, 825, 960, 1113, 1855, 571, 1666, 1630, 877, 940, 1018, 1699, 1365, 666, 1666, 1284, 230, 850, 810, 86, 238, 771, 1018, 825, 75, 1860, 1675, 804, 162, 1371, 1462, 1666, 1095, 225, 756, 1440, 1192, 1162, 805, 1182, 1510, 162, 718, 666, 452, 1790, 1162, 960, 1613, 116, 1379, 1177, 1830, 1664, 980, 876, 960, 1773, 735, 531, 799, 666, 840, 961, 995, 531]\n",
      "[[0.]\n",
      " [0.]\n",
      " [0.]\n",
      " ...\n",
      " [0.]\n",
      " [0.]\n",
      " [0.]]\n",
      "Spam Probability :  [0]\n"
     ]
    }
   ],
   "source": [
    "fi=open('../machine-learning-ex6/ex6/emailSample1.txt').read()\n",
    "print(process_email(fi))\n",
    "print(get_word_indx(fi))\n",
    "print(get_feature(fi))\n",
    "\n",
    "print('Spam Probability : ',predict_spam(clf,fi))\n",
    "\n",
    "fi=open('../machine-learning-ex6/ex6/emailSample2.txt').read()\n",
    "print(process_email(fi))\n",
    "print(get_word_indx(fi))\n",
    "print(get_feature(fi))\n",
    "\n",
    "print('Spam Probability : ',predict_spam(clf,fi))"
   ]
  }
 ],
 "metadata": {
  "kernelspec": {
   "display_name": "Python 3",
   "language": "python",
   "name": "python3"
  },
  "language_info": {
   "codemirror_mode": {
    "name": "ipython",
    "version": 3
   },
   "file_extension": ".py",
   "mimetype": "text/x-python",
   "name": "python",
   "nbconvert_exporter": "python",
   "pygments_lexer": "ipython3",
   "version": "3.6.4"
  }
 },
 "nbformat": 4,
 "nbformat_minor": 2
}
